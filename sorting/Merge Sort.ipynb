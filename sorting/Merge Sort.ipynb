{
 "cells": [
  {
   "cell_type": "code",
   "execution_count": 1,
   "id": "placed-reach",
   "metadata": {},
   "outputs": [],
   "source": [
    "import time\n",
    "import os\n",
    "import pandas as pd\n",
    "import numpy as np"
   ]
  },
  {
   "cell_type": "code",
   "execution_count": 20,
   "id": "emotional-professional",
   "metadata": {},
   "outputs": [],
   "source": [
    "def merge_sort(a):\n",
    "    print(\"Elements going to Divide: \")\n",
    "    print(a)\n",
    "    if len(a)<=1:return a\n",
    "    middle = len(a)//2\n",
    "    left = merge_sort(a[0:middle])\n",
    "    right = merge_sort(a[middle:len(a)])\n",
    "    return merge(left,right)       \n",
    "    "
   ]
  },
  {
   "cell_type": "code",
   "execution_count": 23,
   "id": "hired-surfing",
   "metadata": {},
   "outputs": [],
   "source": [
    "def merge(left, right):\n",
    "    print(\"Marging left right: \")\n",
    "#     temp = np.empty([len(left)+len(right)])\n",
    "    temp = []\n",
    "    l,r,i=0,0,0\n",
    "    print(\"temp: {} left: {} right: {}\".format(temp, left, right))\n",
    "    while(l<len(left) and r<len(right)):\n",
    "        if left[l]>=right[r]:\n",
    "            temp.append(right[r])\n",
    "            r+=1\n",
    "        else:\n",
    "            temp.append(left[l])\n",
    "            l+=1\n",
    "        i+=1\n",
    "        print(\"temp: {} left: {} right: {}\".format(temp, left, right))\n",
    "    while(l<len(left)):\n",
    "        temp.append(left[l])\n",
    "        l+=1\n",
    "    while(r<len(right)):\n",
    "        temp.append(right[r])\n",
    "        r+=1\n",
    "    print(\"Returning sorted array temp: {}\".format(temp))\n",
    "    return temp"
   ]
  },
  {
   "cell_type": "code",
   "execution_count": 24,
   "id": "eastern-marshall",
   "metadata": {},
   "outputs": [
    {
     "name": "stdout",
     "output_type": "stream",
     "text": [
      "Elements going to Divide: \n",
      "[3, 4, 2, 7, 5, 6, 1]\n",
      "Elements going to Divide: \n",
      "[3, 4, 2]\n",
      "Elements going to Divide: \n",
      "[3]\n",
      "Elements going to Divide: \n",
      "[4, 2]\n",
      "Elements going to Divide: \n",
      "[4]\n",
      "Elements going to Divide: \n",
      "[2]\n",
      "Marging left right: \n",
      "temp: [] left: [4] right: [2]\n",
      "temp: [2] left: [4] right: [2]\n",
      "Returning sorted array temp: [2, 4]\n",
      "Marging left right: \n",
      "temp: [] left: [3] right: [2, 4]\n",
      "temp: [2] left: [3] right: [2, 4]\n",
      "temp: [2, 3] left: [3] right: [2, 4]\n",
      "Returning sorted array temp: [2, 3, 4]\n",
      "Elements going to Divide: \n",
      "[7, 5, 6, 1]\n",
      "Elements going to Divide: \n",
      "[7, 5]\n",
      "Elements going to Divide: \n",
      "[7]\n",
      "Elements going to Divide: \n",
      "[5]\n",
      "Marging left right: \n",
      "temp: [] left: [7] right: [5]\n",
      "temp: [5] left: [7] right: [5]\n",
      "Returning sorted array temp: [5, 7]\n",
      "Elements going to Divide: \n",
      "[6, 1]\n",
      "Elements going to Divide: \n",
      "[6]\n",
      "Elements going to Divide: \n",
      "[1]\n",
      "Marging left right: \n",
      "temp: [] left: [6] right: [1]\n",
      "temp: [1] left: [6] right: [1]\n",
      "Returning sorted array temp: [1, 6]\n",
      "Marging left right: \n",
      "temp: [] left: [5, 7] right: [1, 6]\n",
      "temp: [1] left: [5, 7] right: [1, 6]\n",
      "temp: [1, 5] left: [5, 7] right: [1, 6]\n",
      "temp: [1, 5, 6] left: [5, 7] right: [1, 6]\n",
      "Returning sorted array temp: [1, 5, 6, 7]\n",
      "Marging left right: \n",
      "temp: [] left: [2, 3, 4] right: [1, 5, 6, 7]\n",
      "temp: [1] left: [2, 3, 4] right: [1, 5, 6, 7]\n",
      "temp: [1, 2] left: [2, 3, 4] right: [1, 5, 6, 7]\n",
      "temp: [1, 2, 3] left: [2, 3, 4] right: [1, 5, 6, 7]\n",
      "temp: [1, 2, 3, 4] left: [2, 3, 4] right: [1, 5, 6, 7]\n",
      "Returning sorted array temp: [1, 2, 3, 4, 5, 6, 7]\n"
     ]
    }
   ],
   "source": [
    "array = [3,4,2,7,5,6,1]\n",
    "sorted_array = merge_sort(array)"
   ]
  },
  {
   "cell_type": "code",
   "execution_count": null,
   "id": "elementary-confidentiality",
   "metadata": {},
   "outputs": [],
   "source": []
  }
 ],
 "metadata": {
  "kernelspec": {
   "display_name": "Python 3",
   "language": "python",
   "name": "python3"
  },
  "language_info": {
   "codemirror_mode": {
    "name": "ipython",
    "version": 3
   },
   "file_extension": ".py",
   "mimetype": "text/x-python",
   "name": "python",
   "nbconvert_exporter": "python",
   "pygments_lexer": "ipython3",
   "version": "3.8.10"
  }
 },
 "nbformat": 4,
 "nbformat_minor": 5
}
