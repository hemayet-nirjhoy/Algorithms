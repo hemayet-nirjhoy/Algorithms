{
 "cells": [
  {
   "cell_type": "markdown",
   "id": "exposed-swimming",
   "metadata": {},
   "source": [
    "## Selection Sort Algorithm"
   ]
  },
  {
   "cell_type": "code",
   "execution_count": 1,
   "id": "removable-percentage",
   "metadata": {},
   "outputs": [],
   "source": [
    "import numpy as np\n",
    "import time\n",
    "import os"
   ]
  },
  {
   "cell_type": "code",
   "execution_count": 20,
   "id": "touched-steel",
   "metadata": {},
   "outputs": [],
   "source": [
    "def selection_sort(a):\n",
    "    for i in range(len(a)-1):\n",
    "        min = a[i]\n",
    "        index = False\n",
    "        for j in range(i+1,len(a)):\n",
    "            if min>a[j]:\n",
    "                min = a[j]\n",
    "                index = j\n",
    "        print(\"Enumerate: {} min-value-index: {} \",(i, index, ))\n",
    "        if index:\n",
    "            a[index]=a[i]\n",
    "            a[i]=min\n",
    "        print(a)\n",
    "    return a    "
   ]
  },
  {
   "cell_type": "code",
   "execution_count": 21,
   "id": "assured-belly",
   "metadata": {},
   "outputs": [
    {
     "name": "stdout",
     "output_type": "stream",
     "text": [
      "Enumerate: {} min-value-index: {} \n",
      "[0, 5, 3, 1, 2, 8]\n",
      "Enumerate: {} min-value-index: {} \n",
      "[0, 1, 3, 5, 2, 8]\n",
      "Enumerate: {} min-value-index: {} \n",
      "[0, 1, 2, 5, 3, 8]\n",
      "Enumerate: {} min-value-index: {} \n",
      "[0, 1, 2, 3, 5, 8]\n",
      "Enumerate: {} min-value-index: {} \n",
      "[0, 1, 2, 3, 5, 8]\n"
     ]
    },
    {
     "data": {
      "text/plain": [
       "[0, 1, 2, 3, 5, 8]"
      ]
     },
     "execution_count": 21,
     "metadata": {},
     "output_type": "execute_result"
    }
   ],
   "source": [
    "a = [8, 5, 3, 1,2,0]\n",
    "selection_sort(a)"
   ]
  },
  {
   "cell_type": "code",
   "execution_count": null,
   "id": "distinct-recognition",
   "metadata": {},
   "outputs": [],
   "source": []
  }
 ],
 "metadata": {
  "kernelspec": {
   "display_name": "Python 3",
   "language": "python",
   "name": "python3"
  },
  "language_info": {
   "codemirror_mode": {
    "name": "ipython",
    "version": 3
   },
   "file_extension": ".py",
   "mimetype": "text/x-python",
   "name": "python",
   "nbconvert_exporter": "python",
   "pygments_lexer": "ipython3",
   "version": "3.8.10"
  }
 },
 "nbformat": 4,
 "nbformat_minor": 5
}
