{
 "cells": [
  {
   "cell_type": "code",
   "execution_count": 13,
   "id": "healthy-mention",
   "metadata": {},
   "outputs": [],
   "source": [
    "import pandas as pd\n",
    "import numpy as np\n",
    "import os\n",
    "import time\n",
    "import copy"
   ]
  },
  {
   "cell_type": "markdown",
   "id": "changed-child",
   "metadata": {},
   "source": [
    "## Inserition Sort"
   ]
  },
  {
   "cell_type": "code",
   "execution_count": 18,
   "id": "normal-rescue",
   "metadata": {},
   "outputs": [],
   "source": [
    "def insertionSort(a):\n",
    "    for i in range(1, len(a)):\n",
    "        for j in range(i,0,-1):\n",
    "            if a[j]<a[j-1]:\n",
    "                a[j-1],a[j]=a[j],a[j-1]\n",
    "#                 print(\"sawaped: \",a[j],a[j-1])\n",
    "#         print(a)\n",
    "    return a"
   ]
  },
  {
   "cell_type": "code",
   "execution_count": 19,
   "id": "unauthorized-bidder",
   "metadata": {},
   "outputs": [
    {
     "name": "stdout",
     "output_type": "stream",
     "text": [
      "Unsorted Array: [4, 3, 2, 10, 12, 1, 5, 6]\n",
      "Sorted Array: [1, 2, 3, 4, 5, 6, 10, 12]\n"
     ]
    }
   ],
   "source": [
    "a = [4,3,2,10,12,1, 5,6]\n",
    "sorted_a = insertionSort(copy.deepcopy(a))\n",
    "print(\"Unsorted Array: {}\".format(a))\n",
    "print(\"Sorted Array: {}\".format(sorted_a))"
   ]
  },
  {
   "cell_type": "code",
   "execution_count": null,
   "id": "divine-shore",
   "metadata": {},
   "outputs": [],
   "source": []
  }
 ],
 "metadata": {
  "kernelspec": {
   "display_name": "Python 3",
   "language": "python",
   "name": "python3"
  },
  "language_info": {
   "codemirror_mode": {
    "name": "ipython",
    "version": 3
   },
   "file_extension": ".py",
   "mimetype": "text/x-python",
   "name": "python",
   "nbconvert_exporter": "python",
   "pygments_lexer": "ipython3",
   "version": "3.8.5"
  }
 },
 "nbformat": 4,
 "nbformat_minor": 5
}
